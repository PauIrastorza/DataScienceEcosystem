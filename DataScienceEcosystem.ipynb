{
 "cells": [
  {
   "cell_type": "markdown",
   "id": "04bc397e-0d42-44de-b423-22d9114299a3",
   "metadata": {},
   "source": [
    "**Exercise 2: Create markdown cell with title of the notebook**\n",
    "\n",
    "# Data Science Tools and Ecosystem"
   ]
  },
  {
   "cell_type": "markdown",
   "id": "0b0618a2-79cc-475a-91fc-96495ae9dd4e",
   "metadata": {},
   "source": [
    "**Exercise 3: Create a markdown cell for an introduction**\n",
    "\n",
    "In this notebook, Data Science Tools and Ecosystem are summarized."
   ]
  },
  {
   "cell_type": "markdown",
   "id": "9419678e-293c-4583-9296-f37b96c0cc26",
   "metadata": {
    "editable": true,
    "slideshow": {
     "slide_type": ""
    },
    "tags": []
   },
   "source": [
    "**Exercise 10: Insert a markdown cell to list Objectives**\n",
    "\n",
    "**OBJECTIVES:**\n",
    "* List popular programming languages for Data Analysis\n",
    "* List commonly used libraries in Data Science\n",
    "* Create a table with development environment open source tools\n"
   ]
  },
  {
   "cell_type": "markdown",
   "id": "39fb7988-ccc0-4f95-bba3-8821f86428a3",
   "metadata": {},
   "source": [
    "**Exercise 4: Create a markdown cell to list data science languages**\n",
    "Some of the popular languages that Data Scientists use are:\n",
    "1. Python\n",
    "2. R\n",
    "3. SQL"
   ]
  },
  {
   "cell_type": "markdown",
   "id": "67b6fc92-e524-4f84-9bac-f6e96360a82d",
   "metadata": {},
   "source": [
    "**Exercise 5: Create a markdown cell to list data science libraries**\n",
    "Some of the commonly used libraries used by Data Scientists include:\n",
    "\n",
    "* In Python\n",
    "1. Pandas\n",
    "2. Scikit-learn\n",
    "3. Numpy\n",
    "4. Matplotlib\n",
    "5. Seaborn\n",
    "6. Keras\n",
    "7. Tensorflow\n",
    "8. PyTorch\n",
    "* In R\n",
    "1. Lots of built-in functionalities for data science\n",
    "2. ggplot2\n",
    "3. Tensorflow\n",
    "4. Keras"
   ]
  },
  {
   "cell_type": "markdown",
   "id": "e842337c-4c2b-4ec5-87ac-ff754719f753",
   "metadata": {},
   "source": [
    "**Exercise 6: Create a markdown cell with a table of Data Science tools**\n",
    "|Data Science tools|\n",
    "|------------------|\n",
    "|Jupyter Notebook|\n",
    "|RStudio|\n",
    "|Apache Zeppelin|"
   ]
  },
  {
   "cell_type": "markdown",
   "id": "1d4eaa59-5471-4100-8bd2-7294388ba432",
   "metadata": {},
   "source": [
    "**Exercise 7 - Create a markdown cell introducing arithmetic expression examples**\n",
    "### Below are a few examples of evaluating arithmetic expressions in Python"
   ]
  },
  {
   "cell_type": "markdown",
   "id": "6a272e4d-2c36-4cfd-98c7-b943346979d6",
   "metadata": {},
   "source": [
    "**Exercise 8: Create a code cell to multiply and add numbers**"
   ]
  },
  {
   "cell_type": "code",
   "execution_count": 1,
   "id": "0d14a6eb-c1ed-4ef9-b907-ba8858fedd86",
   "metadata": {},
   "outputs": [
    {
     "data": {
      "text/plain": [
       "17"
      ]
     },
     "execution_count": 1,
     "metadata": {},
     "output_type": "execute_result"
    }
   ],
   "source": [
    "#this a simple arithmetic expression to mutiply then add integers\n",
    "\n",
    "(3*4)+5"
   ]
  },
  {
   "cell_type": "markdown",
   "id": "063167fa-981e-4621-8584-3805aafc0729",
   "metadata": {},
   "source": [
    "**Exercise 9: Create a code cell to convert minutes to hours**"
   ]
  },
  {
   "cell_type": "code",
   "execution_count": 3,
   "id": "9b33ae44-2e7c-45f8-a1bc-32244a5e46eb",
   "metadata": {},
   "outputs": [
    {
     "data": {
      "text/plain": [
       "3.3333333333333335"
      ]
     },
     "execution_count": 3,
     "metadata": {},
     "output_type": "execute_result"
    }
   ],
   "source": [
    "#This will convert 200 minutes to hours by dividing by 60\n",
    "hours = 200 / 60 \n",
    "hours"
   ]
  },
  {
   "cell_type": "markdown",
   "id": "ea667bd9-f86e-41b0-965b-80a97cdd7760",
   "metadata": {},
   "source": [
    "**Exercise 11: Create a markdown cell to indicate the Author's name**\n",
    "\n",
    "## Author\n"
   ]
  }
 ],
 "metadata": {
  "kernelspec": {
   "display_name": "Python 3 (ipykernel)",
   "language": "python",
   "name": "python3"
  },
  "language_info": {
   "codemirror_mode": {
    "name": "ipython",
    "version": 3
   },
   "file_extension": ".py",
   "mimetype": "text/x-python",
   "name": "python",
   "nbconvert_exporter": "python",
   "pygments_lexer": "ipython3",
   "version": "3.12.1"
  }
 },
 "nbformat": 4,
 "nbformat_minor": 5
}
